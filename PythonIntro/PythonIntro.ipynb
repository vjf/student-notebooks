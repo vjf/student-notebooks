{
 "cells": [
  {
   "cell_type": "markdown",
   "id": "723cb8f0",
   "metadata": {},
   "source": [
    "## Whirlwind Tour of Python"
   ]
  },
  {
   "cell_type": "markdown",
   "id": "b6937dff",
   "metadata": {},
   "source": [
    "**Variables and data types**"
   ]
  },
  {
   "cell_type": "code",
   "execution_count": 22,
   "id": "ff5db6b5-9801-4bd1-ad63-3a93add91fba",
   "metadata": {},
   "outputs": [],
   "source": [
    "i = 5\n",
    "f = 0.99\n",
    "s1 = 'firststring'\n",
    "s2 = \"secondstring!\"\n",
    "s3 = \"a b c d e f\"\n",
    "s4 = \"\"\" line 1\n",
    "line2\n",
    "line3\n",
    "\"\"\"\n"
   ]
  },
  {
   "cell_type": "markdown",
   "id": "4706406d-6105-4858-8edd-689d565c1bcc",
   "metadata": {},
   "source": [
    "Dictionary or associative array"
   ]
  },
  {
   "cell_type": "code",
   "execution_count": 2,
   "id": "92ee3494-4288-43e2-a069-bd00d99e9293",
   "metadata": {},
   "outputs": [
    {
     "data": {
      "text/plain": [
       "'five'"
      ]
     },
     "execution_count": 2,
     "metadata": {},
     "output_type": "execute_result"
    }
   ],
   "source": [
    "dic = { '4': 'four', '5': 'five'}\n",
    "dic['5']"
   ]
  },
  {
   "cell_type": "markdown",
   "id": "e805aa44-9bbb-4baf-89d9-0a8dff7fa416",
   "metadata": {},
   "source": [
    "Use square bracketed indexes to get to elements in lists, tuples and chars in strings "
   ]
  },
  {
   "cell_type": "code",
   "execution_count": 3,
   "id": "79189875-6e40-4da1-8626-55089c965327",
   "metadata": {},
   "outputs": [
    {
     "data": {
      "text/plain": [
       "1"
      ]
     },
     "execution_count": 3,
     "metadata": {},
     "output_type": "execute_result"
    }
   ],
   "source": [
    "l = [1,2,3,4,5]\n",
    "l[0]"
   ]
  },
  {
   "cell_type": "markdown",
   "id": "195e766f-7a5f-483a-92e4-f9f617505640",
   "metadata": {},
   "source": [
    "Tuple"
   ]
  },
  {
   "cell_type": "code",
   "execution_count": 4,
   "id": "ff2aeec0-afe7-4455-8ff9-273ad45805b8",
   "metadata": {},
   "outputs": [
    {
     "data": {
      "text/plain": [
       "'x'"
      ]
     },
     "execution_count": 4,
     "metadata": {},
     "output_type": "execute_result"
    }
   ],
   "source": [
    "tup = (5,'x',8)\n",
    "tup[1]"
   ]
  },
  {
   "cell_type": "markdown",
   "id": "3ab99766-a26f-42dd-8178-704664308050",
   "metadata": {},
   "source": [
    "String slicing"
   ]
  },
  {
   "cell_type": "code",
   "execution_count": 5,
   "id": "a57f9289",
   "metadata": {},
   "outputs": [
    {
     "data": {
      "text/plain": [
       "'rst'"
      ]
     },
     "execution_count": 5,
     "metadata": {},
     "output_type": "execute_result"
    }
   ],
   "source": [
    "s1[2:5]"
   ]
  },
  {
   "cell_type": "code",
   "execution_count": 6,
   "id": "a3e8d58f",
   "metadata": {},
   "outputs": [
    {
     "data": {
      "text/plain": [
       "'ng!'"
      ]
     },
     "execution_count": 6,
     "metadata": {},
     "output_type": "execute_result"
    }
   ],
   "source": [
    "s2[-3:]"
   ]
  },
  {
   "cell_type": "markdown",
   "id": "bc85c536-b4f6-40c1-b495-c1ef87f5c43f",
   "metadata": {},
   "source": [
    "List operations"
   ]
  },
  {
   "cell_type": "code",
   "execution_count": 7,
   "id": "75b85ecd",
   "metadata": {},
   "outputs": [
    {
     "data": {
      "text/plain": [
       "6"
      ]
     },
     "execution_count": 7,
     "metadata": {},
     "output_type": "execute_result"
    }
   ],
   "source": [
    "l.append(9)\n",
    "len(l)"
   ]
  },
  {
   "cell_type": "code",
   "execution_count": 8,
   "id": "25dfbe86",
   "metadata": {},
   "outputs": [
    {
     "data": {
      "text/plain": [
       "[1, 2, 3, 4, 5, 9]"
      ]
     },
     "execution_count": 8,
     "metadata": {},
     "output_type": "execute_result"
    }
   ],
   "source": [
    "l"
   ]
  },
  {
   "cell_type": "markdown",
   "id": "c986c8ed-34ee-430b-8528-8f6d9dddfb7c",
   "metadata": {},
   "source": [
    "Python has many string operations e.g. Split a string"
   ]
  },
  {
   "cell_type": "code",
   "execution_count": 23,
   "id": "7e94835b-bb72-41a1-ac67-7dff1a462dba",
   "metadata": {},
   "outputs": [
    {
     "data": {
      "text/plain": [
       "['a', 'b', 'c', 'd', 'e', 'f']"
      ]
     },
     "execution_count": 23,
     "metadata": {},
     "output_type": "execute_result"
    }
   ],
   "source": [
    "s3 = \"a|b|c|d|e|f\"\n",
    "s3.split('|')"
   ]
  },
  {
   "cell_type": "markdown",
   "id": "afe8aa44-40c1-4840-a2a8-75f6930eb150",
   "metadata": {},
   "source": [
    "Booleans"
   ]
  },
  {
   "cell_type": "code",
   "execution_count": 10,
   "id": "78f8cd2e-3d1c-4905-8379-cfe10f50764f",
   "metadata": {},
   "outputs": [],
   "source": [
    "flag = True"
   ]
  },
  {
   "cell_type": "markdown",
   "id": "67ea4fbe-8e67-467c-b84e-ccbd790e64bb",
   "metadata": {},
   "source": [
    "Empty Assignment "
   ]
  },
  {
   "cell_type": "code",
   "execution_count": 21,
   "id": "9cc3981e-4442-4b2d-adf5-d9e16159ac16",
   "metadata": {},
   "outputs": [],
   "source": [
    "var = None"
   ]
  },
  {
   "cell_type": "markdown",
   "id": "8f80a417",
   "metadata": {},
   "source": [
    "\\\n",
    "\\\n",
    "**Printing**"
   ]
  },
  {
   "cell_type": "code",
   "execution_count": 11,
   "id": "5ae45872",
   "metadata": {},
   "outputs": [
    {
     "name": "stdout",
     "output_type": "stream",
     "text": [
      "1 0.99 secondstring!\n"
     ]
    }
   ],
   "source": [
    "print(l[0], f, s2)"
   ]
  },
  {
   "cell_type": "markdown",
   "id": "e41ba2c0",
   "metadata": {},
   "source": [
    "NOTE: f\"\" only works for Python version 3.6 and above"
   ]
  },
  {
   "cell_type": "code",
   "execution_count": 12,
   "id": "13e80c81",
   "metadata": {},
   "outputs": [
    {
     "name": "stdout",
     "output_type": "stream",
     "text": [
      "Int is 5, float is 0.9900, string is firststring, the word for '4' is four\n"
     ]
    }
   ],
   "source": [
    "print(f\"Int is {i}, float is {f:.4f}, string is {s1}, the word for '4' is {dic['4']}\")"
   ]
  },
  {
   "cell_type": "markdown",
   "id": "025395e5",
   "metadata": {},
   "source": [
    "\\\n",
    "\\\n",
    "\\\n",
    "**Importing modules and packages, dot notation**\n",
    "\n",
    "Packages are collections of modules, modules are collections of code objects (functions etc.)\n",
    "\n",
    "1. Use \"import \\<module>\", then refer to it as \"module.object\"\n",
    "\n",
    "2. Use \"from \\<package>.\\<module> import \\<object>\", then refer to it as \"object\""
   ]
  },
  {
   "cell_type": "markdown",
   "id": "174b541a",
   "metadata": {},
   "source": [
    "e.g. *SimpleNamespace*"
   ]
  },
  {
   "cell_type": "code",
   "execution_count": 13,
   "id": "0301d624",
   "metadata": {},
   "outputs": [
    {
     "name": "stdout",
     "output_type": "stream",
     "text": [
      "namespace()\n"
     ]
    }
   ],
   "source": [
    "from types import SimpleNamespace\n",
    "n = SimpleNamespace()\n",
    "print(n)"
   ]
  },
  {
   "cell_type": "code",
   "execution_count": 14,
   "id": "61db606b",
   "metadata": {},
   "outputs": [
    {
     "name": "stdout",
     "output_type": "stream",
     "text": [
      "namespace(friends=['Peter', 'Joan'], num_friends=2)\n",
      "['Peter', 'Joan']\n"
     ]
    }
   ],
   "source": [
    "n.friends = ['Peter', 'Joan']\n",
    "n.num_friends = 2\n",
    "print(n)\n",
    "print(n.friends)"
   ]
  },
  {
   "cell_type": "markdown",
   "id": "b782cfa7",
   "metadata": {},
   "source": [
    "\\\n",
    "\\\n",
    "**Exercise: use nvcl_kit 'param_builder' to create connection parameters and print them**\n",
    "\n",
    "HINT: Open a browser tab at (https://gitlab.com/csiro-geoanalytics/python-shared/nvcl_kit/-/blob/master/notebooks/tray_image.ipynb) and look at cell# 1 & 2"
   ]
  },
  {
   "cell_type": "code",
   "execution_count": null,
   "id": "5cec47e2",
   "metadata": {},
   "outputs": [],
   "source": []
  },
  {
   "cell_type": "markdown",
   "id": "389d3908",
   "metadata": {},
   "source": [
    "\\\n",
    "\\\n",
    "**Math operators**\n",
    "\n",
    "\\+ &nbsp; &nbsp; \\-&nbsp; &nbsp; \\* &nbsp; &nbsp; \\/ &nbsp; &nbsp; \\** &nbsp; &nbsp; %"
   ]
  },
  {
   "cell_type": "code",
   "execution_count": null,
   "id": "4f48da58",
   "metadata": {},
   "outputs": [],
   "source": []
  },
  {
   "cell_type": "markdown",
   "id": "fa5527f3",
   "metadata": {},
   "source": [
    "\\\n",
    "\\\n",
    "**Assignment operators**\n",
    "\n",
    "= &nbsp; &nbsp; +=&nbsp; &nbsp; -= &nbsp; &nbsp; *= &nbsp; &nbsp; /=\n"
   ]
  },
  {
   "cell_type": "code",
   "execution_count": null,
   "id": "1da8b0e2",
   "metadata": {},
   "outputs": [],
   "source": []
  },
  {
   "cell_type": "markdown",
   "id": "c85ee616",
   "metadata": {},
   "source": [
    "\\\n",
    "\\\n",
    "**Comparison operators**\n",
    "\n",
    "== &nbsp; &nbsp; != &nbsp; &nbsp; \\>= &nbsp; &nbsp; \\<= &nbsp; &nbsp; \\< &nbsp; &nbsp; \\>"
   ]
  },
  {
   "cell_type": "code",
   "execution_count": null,
   "id": "8f3f1011",
   "metadata": {},
   "outputs": [],
   "source": []
  },
  {
   "cell_type": "markdown",
   "id": "88af19db",
   "metadata": {},
   "source": [
    "\\\n",
    "\\\n",
    "**Important: indentation**\n",
    "\n",
    "In python code blocks are defined by their indentation"
   ]
  },
  {
   "cell_type": "code",
   "execution_count": null,
   "id": "b4b8e38c",
   "metadata": {},
   "outputs": [],
   "source": []
  },
  {
   "cell_type": "markdown",
   "id": "161c960d",
   "metadata": {},
   "source": [
    "\\\n",
    "\\\n",
    "**If statements**"
   ]
  },
  {
   "cell_type": "code",
   "execution_count": 15,
   "id": "07ac590f",
   "metadata": {},
   "outputs": [
    {
     "name": "stdout",
     "output_type": "stream",
     "text": [
      "There are 2 friends\n"
     ]
    }
   ],
   "source": [
    "if n.num_friends == 2:\n",
    "    print(\"There are 2 friends\")\n",
    "elif n.num_friends < 2:\n",
    "    print(\"There are less than 2 friends\")\n",
    "else:\n",
    "    print(\"There are more than 2 friends\")"
   ]
  },
  {
   "cell_type": "markdown",
   "id": "8dbbe7b7",
   "metadata": {},
   "source": [
    "\\\n",
    "\\\n",
    "**For and While Loops**"
   ]
  },
  {
   "cell_type": "code",
   "execution_count": 16,
   "id": "be365d0b",
   "metadata": {},
   "outputs": [
    {
     "name": "stdout",
     "output_type": "stream",
     "text": [
      "Index is:  0\n",
      "skipping 2\n",
      "Index is:  4\n",
      "exit at 6\n"
     ]
    }
   ],
   "source": [
    "for index in range(0,10,2):\n",
    "    if index == 2:\n",
    "        print(\"skipping 2\")\n",
    "        continue\n",
    "    if index == 6:\n",
    "        print(\"exit at 6\")\n",
    "        break\n",
    "    print(\"Index is: \", index)"
   ]
  },
  {
   "cell_type": "code",
   "execution_count": 17,
   "id": "ed9b6764",
   "metadata": {},
   "outputs": [
    {
     "name": "stdout",
     "output_type": "stream",
     "text": [
      "0\n",
      "2\n",
      "4\n"
     ]
    }
   ],
   "source": [
    "l = 0\n",
    "while l < 5:\n",
    "    print(l)\n",
    "    l += 2\n",
    "    "
   ]
  },
  {
   "cell_type": "code",
   "execution_count": 25,
   "id": "43d7f5ba-269f-4d90-b106-94fc556c829e",
   "metadata": {},
   "outputs": [
    {
     "name": "stdout",
     "output_type": "stream",
     "text": [
      "Key: 4 Val: four\n",
      "Key: 5 Val: five\n"
     ]
    }
   ],
   "source": [
    "for key, val in dic.items():\n",
    "    print(f\"Key: {key} Val: {val}\")"
   ]
  },
  {
   "cell_type": "markdown",
   "id": "abd3f00d",
   "metadata": {},
   "source": [
    "\\\n",
    "\\\n",
    "**Functions** "
   ]
  },
  {
   "cell_type": "code",
   "execution_count": 18,
   "id": "620d208e",
   "metadata": {},
   "outputs": [
    {
     "data": {
      "text/plain": [
       "['Peter', 'Joan']"
      ]
     },
     "execution_count": 18,
     "metadata": {},
     "output_type": "execute_result"
    }
   ],
   "source": [
    "def find_friends(f, optional_param=True):\n",
    "    return f.friends\n",
    "\n",
    "fr = find_friends(n)\n",
    "fr"
   ]
  },
  {
   "cell_type": "markdown",
   "id": "3729cb66-4214-4a65-8905-a7feb0ce3168",
   "metadata": {},
   "source": [
    "Optional parameter"
   ]
  },
  {
   "cell_type": "code",
   "execution_count": null,
   "id": "ef5729d1",
   "metadata": {},
   "outputs": [],
   "source": [
    "find_friends(n, optional_param=False)"
   ]
  },
  {
   "cell_type": "code",
   "execution_count": null,
   "id": "40e153a9-df1f-4319-be6b-fdadcb61c962",
   "metadata": {},
   "outputs": [],
   "source": []
  },
  {
   "cell_type": "markdown",
   "id": "79a5577e",
   "metadata": {},
   "source": [
    "\\\n",
    "\\\n",
    "**Logical operators**\n",
    "\n",
    "or &nbsp; &nbsp; and &nbsp; &nbsp; not"
   ]
  },
  {
   "cell_type": "code",
   "execution_count": null,
   "id": "6a96a3bb",
   "metadata": {},
   "outputs": [],
   "source": [
    "if n.friends[0] == 'Peter' or n.friends[1] == 'Peter':\n",
    "    print(\"Peter is a friend\")"
   ]
  },
  {
   "cell_type": "markdown",
   "id": "9bd672a4",
   "metadata": {},
   "source": [
    "\\\n",
    "\\\n",
    "**Membership operators**\n",
    "\n",
    "A better way to look for 'Peter'"
   ]
  },
  {
   "cell_type": "code",
   "execution_count": null,
   "id": "2d73a130",
   "metadata": {},
   "outputs": [],
   "source": [
    "if 'Peter' in n.friends:\n",
    "    print(\"Peter is a friend\")"
   ]
  },
  {
   "cell_type": "markdown",
   "id": "977c6703",
   "metadata": {},
   "source": [
    "\\\n",
    "\\\n",
    "**Exercise: make a for loop to print nvcl_kit connection parameters for all states/territories in Australia**"
   ]
  },
  {
   "cell_type": "code",
   "execution_count": null,
   "id": "c5aa9fdc",
   "metadata": {},
   "outputs": [],
   "source": []
  },
  {
   "cell_type": "markdown",
   "id": "90007d6a",
   "metadata": {},
   "source": [
    "\\\n",
    "\\\n",
    "**Iterators and Generators**\n",
    "\n",
    "iterators and generators are similar in function, but different in implementation.\n",
    "e.g. generators require more memory\n",
    "\n",
    "enumerate() is a useful iterator that returns a tuple of (index, array item) at each iteration"
   ]
  },
  {
   "cell_type": "code",
   "execution_count": null,
   "id": "e2340fac",
   "metadata": {},
   "outputs": [],
   "source": [
    "day_list = ['Monday', 'Tuesday', 'Wednesday', 'Thursday']\n",
    "for index, day in enumerate(day_list):\n",
    "    print(index, day)"
   ]
  },
  {
   "cell_type": "code",
   "execution_count": null,
   "id": "cf9db508",
   "metadata": {},
   "outputs": [],
   "source": []
  },
  {
   "cell_type": "markdown",
   "id": "6408eb48",
   "metadata": {},
   "source": [
    "\\\n",
    "\\\n",
    "**Comments**"
   ]
  },
  {
   "cell_type": "code",
   "execution_count": null,
   "id": "0981a899",
   "metadata": {},
   "outputs": [],
   "source": [
    "# One line comment\n",
    "w = 4 # Another one line comment "
   ]
  },
  {
   "cell_type": "code",
   "execution_count": null,
   "id": "9a80c2fd",
   "metadata": {},
   "outputs": [],
   "source": [
    "\"\"\" Line 1 of a multiline comment or string\n",
    "This is line 2\n",
    "This is line 3\n",
    "\"\"\""
   ]
  },
  {
   "cell_type": "code",
   "execution_count": null,
   "id": "21ef6e24",
   "metadata": {},
   "outputs": [],
   "source": []
  }
 ],
 "metadata": {
  "kernelspec": {
   "display_name": "NVCL KIT",
   "language": "python",
   "name": "myenv"
  },
  "language_info": {
   "codemirror_mode": {
    "name": "ipython",
    "version": 3
   },
   "file_extension": ".py",
   "mimetype": "text/x-python",
   "name": "python",
   "nbconvert_exporter": "python",
   "pygments_lexer": "ipython3",
   "version": "3.8.10"
  }
 },
 "nbformat": 4,
 "nbformat_minor": 5
}
