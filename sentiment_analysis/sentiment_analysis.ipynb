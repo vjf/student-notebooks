{
 "cells": [
  {
   "cell_type": "markdown",
   "id": "973ff6f3-8da0-42c5-85cf-8fe8a162e2a3",
   "metadata": {},
   "source": [
    "## Install machine learning prerequisites"
   ]
  },
  {
   "cell_type": "code",
   "execution_count": 1,
   "id": "80ee4e69-8975-4f11-93f9-cce781fed07b",
   "metadata": {
    "tags": []
   },
   "outputs": [
    {
     "name": "stdout",
     "output_type": "stream",
     "text": [
      "Defaulting to user installation because normal site-packages is not writeable\n",
      "Requirement already satisfied: transformers in ./.local/lib/python3.10/site-packages (4.44.2)\n",
      "Requirement already satisfied: filelock in ./.local/lib/python3.10/site-packages (from transformers) (3.16.1)\n",
      "Requirement already satisfied: huggingface-hub<1.0,>=0.23.2 in ./.local/lib/python3.10/site-packages (from transformers) (0.25.1)\n",
      "Requirement already satisfied: numpy>=1.17 in ./.local/lib/python3.10/site-packages (from transformers) (2.1.1)\n",
      "Requirement already satisfied: packaging>=20.0 in /opt/tljh/user/lib/python3.10/site-packages (from transformers) (24.1)\n",
      "Requirement already satisfied: pyyaml>=5.1 in /opt/tljh/user/lib/python3.10/site-packages (from transformers) (6.0.2)\n",
      "Requirement already satisfied: regex!=2019.12.17 in ./.local/lib/python3.10/site-packages (from transformers) (2024.9.11)\n",
      "Requirement already satisfied: requests in /opt/tljh/user/lib/python3.10/site-packages (from transformers) (2.32.3)\n",
      "Requirement already satisfied: safetensors>=0.4.1 in ./.local/lib/python3.10/site-packages (from transformers) (0.4.5)\n",
      "Requirement already satisfied: tokenizers<0.20,>=0.19 in ./.local/lib/python3.10/site-packages (from transformers) (0.19.1)\n",
      "Requirement already satisfied: tqdm>=4.27 in /opt/tljh/user/lib/python3.10/site-packages (from transformers) (4.65.0)\n",
      "Requirement already satisfied: fsspec>=2023.5.0 in ./.local/lib/python3.10/site-packages (from huggingface-hub<1.0,>=0.23.2->transformers) (2024.9.0)\n",
      "Requirement already satisfied: typing-extensions>=3.7.4.3 in /opt/tljh/user/lib/python3.10/site-packages (from huggingface-hub<1.0,>=0.23.2->transformers) (4.12.2)\n",
      "Requirement already satisfied: charset-normalizer<4,>=2 in /opt/tljh/user/lib/python3.10/site-packages (from requests->transformers) (3.1.0)\n",
      "Requirement already satisfied: idna<4,>=2.5 in /opt/tljh/user/lib/python3.10/site-packages (from requests->transformers) (3.4)\n",
      "Requirement already satisfied: urllib3<3,>=1.21.1 in /opt/tljh/user/lib/python3.10/site-packages (from requests->transformers) (1.26.15)\n",
      "Requirement already satisfied: certifi>=2017.4.17 in /opt/tljh/user/lib/python3.10/site-packages (from requests->transformers) (2022.12.7)\n",
      "Note: you may need to restart the kernel to use updated packages.\n"
     ]
    }
   ],
   "source": [
    "!pip install -U transformers"
   ]
  },
  {
   "cell_type": "code",
   "execution_count": 2,
   "id": "11a101c4-aca7-4bd4-976e-cc9087269c8d",
   "metadata": {},
   "outputs": [
    {
     "name": "stdout",
     "output_type": "stream",
     "text": [
      "Defaulting to user installation because normal site-packages is not writeable\n",
      "Looking in indexes: https://download.pytorch.org/whl/cu118\n",
      "Requirement already satisfied: torch in ./.local/lib/python3.10/site-packages (2.4.1+cu118)\n",
      "Requirement already satisfied: torchvision in ./.local/lib/python3.10/site-packages (0.19.1+cu118)\n",
      "Requirement already satisfied: torchaudio in ./.local/lib/python3.10/site-packages (2.4.1+cu118)\n",
      "Requirement already satisfied: filelock in ./.local/lib/python3.10/site-packages (from torch) (3.16.1)\n",
      "Requirement already satisfied: typing-extensions>=4.8.0 in /opt/tljh/user/lib/python3.10/site-packages (from torch) (4.12.2)\n",
      "Requirement already satisfied: sympy in ./.local/lib/python3.10/site-packages (from torch) (1.12)\n",
      "Requirement already satisfied: networkx in ./.local/lib/python3.10/site-packages (from torch) (3.2.1)\n",
      "Requirement already satisfied: jinja2 in /opt/tljh/user/lib/python3.10/site-packages (from torch) (3.1.4)\n",
      "Requirement already satisfied: fsspec in ./.local/lib/python3.10/site-packages (from torch) (2024.9.0)\n",
      "Requirement already satisfied: nvidia-cuda-nvrtc-cu11==11.8.89 in ./.local/lib/python3.10/site-packages (from torch) (11.8.89)\n",
      "Requirement already satisfied: nvidia-cuda-runtime-cu11==11.8.89 in ./.local/lib/python3.10/site-packages (from torch) (11.8.89)\n",
      "Requirement already satisfied: nvidia-cuda-cupti-cu11==11.8.87 in ./.local/lib/python3.10/site-packages (from torch) (11.8.87)\n",
      "Requirement already satisfied: nvidia-cudnn-cu11==9.1.0.70 in ./.local/lib/python3.10/site-packages (from torch) (9.1.0.70)\n",
      "Requirement already satisfied: nvidia-cublas-cu11==11.11.3.6 in ./.local/lib/python3.10/site-packages (from torch) (11.11.3.6)\n",
      "Requirement already satisfied: nvidia-cufft-cu11==10.9.0.58 in ./.local/lib/python3.10/site-packages (from torch) (10.9.0.58)\n",
      "Requirement already satisfied: nvidia-curand-cu11==10.3.0.86 in ./.local/lib/python3.10/site-packages (from torch) (10.3.0.86)\n",
      "Requirement already satisfied: nvidia-cusolver-cu11==11.4.1.48 in ./.local/lib/python3.10/site-packages (from torch) (11.4.1.48)\n",
      "Requirement already satisfied: nvidia-cusparse-cu11==11.7.5.86 in ./.local/lib/python3.10/site-packages (from torch) (11.7.5.86)\n",
      "Requirement already satisfied: nvidia-nccl-cu11==2.20.5 in ./.local/lib/python3.10/site-packages (from torch) (2.20.5)\n",
      "Requirement already satisfied: nvidia-nvtx-cu11==11.8.86 in ./.local/lib/python3.10/site-packages (from torch) (11.8.86)\n",
      "Requirement already satisfied: triton==3.0.0 in ./.local/lib/python3.10/site-packages (from torch) (3.0.0)\n",
      "Requirement already satisfied: numpy in ./.local/lib/python3.10/site-packages (from torchvision) (2.1.1)\n",
      "Requirement already satisfied: pillow!=8.3.*,>=5.3.0 in ./.local/lib/python3.10/site-packages (from torchvision) (10.2.0)\n",
      "Requirement already satisfied: MarkupSafe>=2.0 in /opt/tljh/user/lib/python3.10/site-packages (from jinja2->torch) (2.1.5)\n",
      "Requirement already satisfied: mpmath>=0.19 in ./.local/lib/python3.10/site-packages (from sympy->torch) (1.3.0)\n"
     ]
    }
   ],
   "source": [
    "!pip3 install torch torchvision torchaudio --index-url https://download.pytorch.org/whl/cu118"
   ]
  },
  {
   "cell_type": "markdown",
   "id": "cbb764f9-c7c3-42ad-95ee-9d9cee2adcb5",
   "metadata": {},
   "source": [
    "### Source: https://huggingface.co/bhadresh-savani/distilbert-base-uncased-emotion?text=I+feel+a+bit+let+down"
   ]
  },
  {
   "cell_type": "code",
   "execution_count": 3,
   "id": "eb3f7ff7-08d3-42d0-a2db-7d08311fea10",
   "metadata": {
    "tags": []
   },
   "outputs": [
    {
     "data": {
      "application/vnd.jupyter.widget-view+json": {
       "model_id": "39bd43e1cc09462eb900e7137ee0462d",
       "version_major": 2,
       "version_minor": 0
      },
      "text/plain": [
       "model.safetensors:   0%|          | 0.00/268M [00:00<?, ?B/s]"
      ]
     },
     "metadata": {},
     "output_type": "display_data"
    },
    {
     "data": {
      "application/vnd.jupyter.widget-view+json": {
       "model_id": "dbd70ed6bca44d51a2ef74882805544a",
       "version_major": 2,
       "version_minor": 0
      },
      "text/plain": [
       "tokenizer_config.json:   0%|          | 0.00/291 [00:00<?, ?B/s]"
      ]
     },
     "metadata": {},
     "output_type": "display_data"
    },
    {
     "data": {
      "application/vnd.jupyter.widget-view+json": {
       "model_id": "271f1f468e2240b48a3e30726aa22b90",
       "version_major": 2,
       "version_minor": 0
      },
      "text/plain": [
       "vocab.txt:   0%|          | 0.00/232k [00:00<?, ?B/s]"
      ]
     },
     "metadata": {},
     "output_type": "display_data"
    },
    {
     "data": {
      "application/vnd.jupyter.widget-view+json": {
       "model_id": "21e406391c28476da803e888b99f6009",
       "version_major": 2,
       "version_minor": 0
      },
      "text/plain": [
       "special_tokens_map.json:   0%|          | 0.00/112 [00:00<?, ?B/s]"
      ]
     },
     "metadata": {},
     "output_type": "display_data"
    },
    {
     "name": "stdout",
     "output_type": "stream",
     "text": [
      "joy: 99.6%\n",
      "anger: 0.2%\n",
      "love: 0.1%\n",
      "sadness: 0.1%\n",
      "fear: 0.0%\n",
      "surprise: 0.0%\n"
     ]
    },
    {
     "name": "stderr",
     "output_type": "stream",
     "text": [
      "/home/jupyter-vincent/.local/lib/python3.10/site-packages/transformers/tokenization_utils_base.py:1601: FutureWarning: `clean_up_tokenization_spaces` was not set. It will be set to `True` by default. This behavior will be depracted in transformers v4.45, and will be then set to `False` by default. For more details check this issue: https://github.com/huggingface/transformers/issues/31884\n",
      "  warnings.warn(\n"
     ]
    }
   ],
   "source": [
    "from transformers import pipeline\n",
    "classifier = pipeline(\"text-classification\",model='bhadresh-savani/distilbert-base-uncased-emotion', top_k=None)\n",
    "prediction = classifier(\"I love using transformers. The best part is wide range of support and its easy to use\", )\n",
    "for category in prediction[0]:\n",
    "    print(f\"{category['label']}: {100.0 * category['score']:.1f}%\")\n"
   ]
  },
  {
   "cell_type": "markdown",
   "id": "7231d0d9-1565-4e6b-a08a-66fc2e0f8284",
   "metadata": {},
   "source": [
    "### Using Natural Language Toolkit: https://www.nltk.org/"
   ]
  },
  {
   "cell_type": "code",
   "execution_count": 4,
   "id": "4bf135b6-9658-4383-9051-495b492be573",
   "metadata": {
    "tags": []
   },
   "outputs": [
    {
     "name": "stderr",
     "output_type": "stream",
     "text": [
      "huggingface/tokenizers: The current process just got forked, after parallelism has already been used. Disabling parallelism to avoid deadlocks...\n",
      "To disable this warning, you can either:\n",
      "\t- Avoid using `tokenizers` before the fork if possible\n",
      "\t- Explicitly set the environment variable TOKENIZERS_PARALLELISM=(true | false)\n"
     ]
    },
    {
     "name": "stdout",
     "output_type": "stream",
     "text": [
      "Defaulting to user installation because normal site-packages is not writeable\n",
      "Collecting nltk\n",
      "  Downloading nltk-3.9.1-py3-none-any.whl.metadata (2.9 kB)\n",
      "Collecting click (from nltk)\n",
      "  Downloading click-8.1.7-py3-none-any.whl.metadata (3.0 kB)\n",
      "Collecting joblib (from nltk)\n",
      "  Downloading joblib-1.4.2-py3-none-any.whl.metadata (5.4 kB)\n",
      "Requirement already satisfied: regex>=2021.8.3 in ./.local/lib/python3.10/site-packages (from nltk) (2024.9.11)\n",
      "Requirement already satisfied: tqdm in /opt/tljh/user/lib/python3.10/site-packages (from nltk) (4.65.0)\n",
      "Downloading nltk-3.9.1-py3-none-any.whl (1.5 MB)\n",
      "\u001b[2K   \u001b[90m━━━━━━━━━━━━━━━━━━━━━━━━━━━━━━━━━━━━━━━━\u001b[0m \u001b[32m1.5/1.5 MB\u001b[0m \u001b[31m48.3 MB/s\u001b[0m eta \u001b[36m0:00:00\u001b[0m\n",
      "\u001b[?25hDownloading click-8.1.7-py3-none-any.whl (97 kB)\n",
      "Downloading joblib-1.4.2-py3-none-any.whl (301 kB)\n",
      "Installing collected packages: joblib, click, nltk\n",
      "\u001b[33m  WARNING: The script nltk is installed in '/home/jupyter-vincent/.local/bin' which is not on PATH.\n",
      "  Consider adding this directory to PATH or, if you prefer to suppress this warning, use --no-warn-script-location.\u001b[0m\u001b[33m\n",
      "\u001b[0mSuccessfully installed click-8.1.7 joblib-1.4.2 nltk-3.9.1\n",
      "Note: you may need to restart the kernel to use updated packages.\n"
     ]
    }
   ],
   "source": [
    "%pip install -U nltk"
   ]
  },
  {
   "cell_type": "code",
   "execution_count": 5,
   "id": "f7e0ad2e-9eeb-446a-951e-cc9b2769f129",
   "metadata": {
    "tags": []
   },
   "outputs": [
    {
     "name": "stderr",
     "output_type": "stream",
     "text": [
      "[nltk_data] Downloading package pros_cons to /home/jupyter-\n",
      "[nltk_data]     vincent/nltk_data...\n",
      "[nltk_data]   Unzipping corpora/pros_cons.zip.\n",
      "[nltk_data] Downloading package punkt_tab to /home/jupyter-\n",
      "[nltk_data]     vincent/nltk_data...\n",
      "[nltk_data]   Unzipping tokenizers/punkt_tab.zip.\n"
     ]
    },
    {
     "data": {
      "text/plain": [
       "True"
      ]
     },
     "execution_count": 5,
     "metadata": {},
     "output_type": "execute_result"
    }
   ],
   "source": [
    "import nltk\n",
    "\n",
    "nltk.download('pros_cons')\n",
    "nltk.download('punkt_tab')"
   ]
  },
  {
   "cell_type": "markdown",
   "id": "6efd8143-9287-446b-827a-cf9aa4ed20b8",
   "metadata": {},
   "source": [
    "### Analyse a random selection of comments on consumer goods"
   ]
  },
  {
   "cell_type": "code",
   "execution_count": 6,
   "id": "c50d85e4-f62d-4f03-a0a1-e96ec9b2a09c",
   "metadata": {
    "tags": []
   },
   "outputs": [
    {
     "name": "stdout",
     "output_type": "stream",
     "text": [
      "Screen & quot ; dimming & quot ;, time and date memory , battery connection\n",
      "    joy: 60.8%\n",
      "    fear: 27.4%\n",
      "    anger: 6.8%\n",
      "    sadness: 3.5%\n",
      "    surprise: 0.9%\n",
      "    love: 0.5%\n",
      "\n",
      "uses CPU for image processing\n",
      "    joy: 42.7%\n",
      "    anger: 30.6%\n",
      "    fear: 18.9%\n",
      "    sadness: 5.8%\n",
      "    surprise: 1.2%\n",
      "    love: 0.7%\n",
      "\n",
      "Poor indoor photo quality . Especially the flash and white balance . Battery life .\n",
      "    sadness: 92.4%\n",
      "    fear: 4.1%\n",
      "    anger: 2.7%\n",
      "    joy: 0.6%\n",
      "    surprise: 0.1%\n",
      "    love: 0.1%\n",
      "\n",
      "fast & amp ; clear printing\n",
      "    joy: 82.0%\n",
      "    anger: 13.0%\n",
      "    fear: 2.7%\n",
      "    sadness: 1.6%\n",
      "    surprise: 0.4%\n",
      "    love: 0.3%\n",
      "\n",
      "Fast printing speed , good quality , durable\n",
      "    joy: 99.7%\n",
      "    anger: 0.1%\n",
      "    sadness: 0.1%\n",
      "    love: 0.1%\n",
      "    surprise: 0.1%\n",
      "    fear: 0.0%\n",
      "\n",
      "Maybe a little too small and compact .\n",
      "    joy: 95.1%\n",
      "    anger: 2.4%\n",
      "    fear: 1.3%\n",
      "    sadness: 0.7%\n",
      "    surprise: 0.3%\n",
      "    love: 0.1%\n",
      "\n",
      "Good speakerphone , good reception in most areas .\n",
      "    joy: 99.6%\n",
      "    anger: 0.2%\n",
      "    love: 0.1%\n",
      "    sadness: 0.1%\n",
      "    surprise: 0.0%\n",
      "    fear: 0.0%\n",
      "\n",
      "Miniscule keyboard . Price will make your wallet bleed .\n",
      "    sadness: 48.3%\n",
      "    anger: 48.0%\n",
      "    fear: 2.9%\n",
      "    joy: 0.5%\n",
      "    surprise: 0.2%\n",
      "    love: 0.1%\n",
      "\n",
      "paper handling\n",
      "    anger: 42.0%\n",
      "    fear: 32.5%\n",
      "    sadness: 11.9%\n",
      "    joy: 11.4%\n",
      "    surprise: 1.3%\n",
      "    love: 1.0%\n",
      "\n",
      "Take ' s Excellent Picture ' s\n",
      "    joy: 99.8%\n",
      "    sadness: 0.1%\n",
      "    anger: 0.0%\n",
      "    love: 0.0%\n",
      "    surprise: 0.0%\n",
      "    fear: 0.0%\n",
      "\n",
      "Easy to Use , Share Photos\n",
      "    joy: 98.6%\n",
      "    anger: 0.7%\n",
      "    sadness: 0.3%\n",
      "    love: 0.2%\n",
      "    fear: 0.2%\n",
      "    surprise: 0.1%\n",
      "\n",
      "Lightweight and compact , excellent battery life\n",
      "    joy: 98.6%\n",
      "    anger: 0.5%\n",
      "    fear: 0.4%\n",
      "    sadness: 0.2%\n",
      "    surprise: 0.2%\n",
      "    love: 0.1%\n",
      "\n",
      "Very good quality of the images , Many features . Very rigid .\n",
      "    fear: 64.1%\n",
      "    anger: 29.3%\n",
      "    joy: 4.4%\n",
      "    sadness: 1.3%\n",
      "    love: 0.5%\n",
      "    surprise: 0.4%\n",
      "\n",
      "10x zoom , a lot of pic effects and more\n",
      "    joy: 89.9%\n",
      "    anger: 4.8%\n",
      "    fear: 3.1%\n",
      "    sadness: 1.2%\n",
      "    surprise: 0.7%\n",
      "    love: 0.2%\n",
      "\n",
      "Not a single one\n",
      "    anger: 91.6%\n",
      "    joy: 3.1%\n",
      "    fear: 2.9%\n",
      "    sadness: 2.0%\n",
      "    love: 0.2%\n",
      "    surprise: 0.2%\n",
      "\n",
      "Have to buy better cartrige\n",
      "    joy: 89.2%\n",
      "    anger: 6.2%\n",
      "    sadness: 3.6%\n",
      "    fear: 0.5%\n",
      "    love: 0.3%\n",
      "    surprise: 0.2%\n",
      "\n",
      "A bit heavy , short battery life\n",
      "    anger: 48.2%\n",
      "    fear: 33.6%\n",
      "    joy: 10.2%\n",
      "    sadness: 7.2%\n",
      "    love: 0.4%\n",
      "    surprise: 0.4%\n",
      "\n",
      "Viewfinder could be a bit larger . Printed manual could be more comprehensive .\n",
      "    joy: 98.3%\n",
      "    anger: 0.8%\n",
      "    sadness: 0.3%\n",
      "    fear: 0.3%\n",
      "    surprise: 0.2%\n",
      "    love: 0.1%\n",
      "\n",
      "only 9 ring styles , no games ( like nokia )\n",
      "    anger: 76.7%\n",
      "    joy: 10.1%\n",
      "    fear: 7.0%\n",
      "    sadness: 5.7%\n",
      "    love: 0.3%\n",
      "    surprise: 0.3%\n",
      "\n",
      "Not the greatest walking stroller .\n",
      "    joy: 95.2%\n",
      "    anger: 3.2%\n",
      "    sadness: 0.6%\n",
      "    fear: 0.4%\n",
      "    surprise: 0.3%\n",
      "    love: 0.2%\n",
      "\n"
     ]
    }
   ],
   "source": [
    "import random\n",
    "comment_list = nltk.corpus.pros_cons.sents()\n",
    "num_comments = len(comment_list)\n",
    "\n",
    "for count in range(20):\n",
    "    idx = random.randrange(num_comments)\n",
    "    comment = ' '.join(comment_list[idx])\n",
    "    print(comment)\n",
    "    prediction = classifier(comment, )\n",
    "    for category in prediction[0]:\n",
    "        print(f\"    {category['label']}: {100.0 * category['score']:.1f}%\")\n",
    "    print()"
   ]
  },
  {
   "cell_type": "code",
   "execution_count": null,
   "id": "c947009c-4bcb-4908-ab43-0bf900115f1f",
   "metadata": {},
   "outputs": [],
   "source": []
  }
 ],
 "metadata": {
  "kernelspec": {
   "display_name": "Python 3 (ipykernel)",
   "language": "python",
   "name": "python3"
  },
  "language_info": {
   "codemirror_mode": {
    "name": "ipython",
    "version": 3
   },
   "file_extension": ".py",
   "mimetype": "text/x-python",
   "name": "python",
   "nbconvert_exporter": "python",
   "pygments_lexer": "ipython3",
   "version": "3.10.10"
  }
 },
 "nbformat": 4,
 "nbformat_minor": 5
}
