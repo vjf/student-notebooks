{
 "cells": [
  {
   "cell_type": "code",
   "execution_count": 1,
   "id": "80ee4e69-8975-4f11-93f9-cce781fed07b",
   "metadata": {
    "tags": []
   },
   "outputs": [
    {
     "name": "stdout",
     "output_type": "stream",
     "text": [
      "Requirement already satisfied: transformers in /opt/conda/lib/python3.11/site-packages (4.44.2)\n",
      "Requirement already satisfied: filelock in /opt/conda/lib/python3.11/site-packages (from transformers) (3.15.4)\n",
      "Requirement already satisfied: huggingface-hub<1.0,>=0.23.2 in /opt/conda/lib/python3.11/site-packages (from transformers) (0.25.0)\n",
      "Requirement already satisfied: numpy>=1.17 in /opt/conda/lib/python3.11/site-packages (from transformers) (1.24.3)\n",
      "Requirement already satisfied: packaging>=20.0 in /opt/conda/lib/python3.11/site-packages (from transformers) (23.2)\n",
      "Requirement already satisfied: pyyaml>=5.1 in /opt/conda/lib/python3.11/site-packages (from transformers) (6.0.1)\n",
      "Requirement already satisfied: regex!=2019.12.17 in /opt/conda/lib/python3.11/site-packages (from transformers) (2024.9.11)\n",
      "Requirement already satisfied: requests in /opt/conda/lib/python3.11/site-packages (from transformers) (2.31.0)\n",
      "Requirement already satisfied: safetensors>=0.4.1 in /opt/conda/lib/python3.11/site-packages (from transformers) (0.4.5)\n",
      "Requirement already satisfied: tokenizers<0.20,>=0.19 in /opt/conda/lib/python3.11/site-packages (from transformers) (0.19.1)\n",
      "Requirement already satisfied: tqdm>=4.27 in /opt/conda/lib/python3.11/site-packages (from transformers) (4.66.1)\n",
      "Requirement already satisfied: fsspec>=2023.5.0 in /opt/conda/lib/python3.11/site-packages (from huggingface-hub<1.0,>=0.23.2->transformers) (2024.9.0)\n",
      "Requirement already satisfied: typing-extensions>=3.7.4.3 in /opt/conda/lib/python3.11/site-packages (from huggingface-hub<1.0,>=0.23.2->transformers) (4.12.2)\n",
      "Requirement already satisfied: charset-normalizer<4,>=2 in /opt/conda/lib/python3.11/site-packages (from requests->transformers) (3.3.2)\n",
      "Requirement already satisfied: idna<4,>=2.5 in /opt/conda/lib/python3.11/site-packages (from requests->transformers) (3.6)\n",
      "Requirement already satisfied: urllib3<3,>=1.21.1 in /opt/conda/lib/python3.11/site-packages (from requests->transformers) (1.26.18)\n",
      "Requirement already satisfied: certifi>=2017.4.17 in /opt/conda/lib/python3.11/site-packages (from requests->transformers) (2023.11.17)\n",
      "Note: you may need to restart the kernel to use updated packages.\n"
     ]
    }
   ],
   "source": [
    "%pip install -U transformers"
   ]
  },
  {
   "cell_type": "code",
   "execution_count": 2,
   "id": "eb3f7ff7-08d3-42d0-a2db-7d08311fea10",
   "metadata": {
    "tags": []
   },
   "outputs": [
    {
     "name": "stderr",
     "output_type": "stream",
     "text": [
      "2024-09-20 06:04:29.894277: I tensorflow/core/util/port.cc:110] oneDNN custom operations are on. You may see slightly different numerical results due to floating-point round-off errors from different computation orders. To turn them off, set the environment variable `TF_ENABLE_ONEDNN_OPTS=0`.\n",
      "2024-09-20 06:04:29.943181: I tensorflow/core/platform/cpu_feature_guard.cc:182] This TensorFlow binary is optimized to use available CPU instructions in performance-critical operations.\n",
      "To enable the following instructions: AVX2 AVX512F AVX512_VNNI FMA, in other operations, rebuild TensorFlow with the appropriate compiler flags.\n",
      "2024-09-20 06:04:42.745095: I tensorflow/core/common_runtime/gpu/gpu_device.cc:1639] Created device /job:localhost/replica:0/task:0/device:GPU:0 with 31141 MB memory:  -> device: 0, name: Tesla V100-PCIE-32GB, pci bus id: 0000:3b:00.0, compute capability: 7.0\n",
      "All PyTorch model weights were used when initializing TFDistilBertForSequenceClassification.\n",
      "\n",
      "All the weights of TFDistilBertForSequenceClassification were initialized from the PyTorch model.\n",
      "If your task is similar to the task the model of the checkpoint was trained on, you can already use TFDistilBertForSequenceClassification for predictions without further training.\n",
      "/opt/conda/lib/python3.11/site-packages/transformers/tokenization_utils_base.py:1601: FutureWarning: `clean_up_tokenization_spaces` was not set. It will be set to `True` by default. This behavior will be depracted in transformers v4.45, and will be then set to `False` by default. For more details check this issue: https://github.com/huggingface/transformers/issues/31884\n",
      "  warnings.warn(\n"
     ]
    },
    {
     "name": "stdout",
     "output_type": "stream",
     "text": [
      "joy: 99.6%\n",
      "anger: 0.2%\n",
      "love: 0.1%\n",
      "sadness: 0.1%\n",
      "fear: 0.0%\n",
      "surprise: 0.0%\n"
     ]
    }
   ],
   "source": [
    "from transformers import pipeline\n",
    "classifier = pipeline(\"text-classification\",model='bhadresh-savani/distilbert-base-uncased-emotion', top_k=None)\n",
    "prediction = classifier(\"I love using transformers. The best part is wide range of support and its easy to use\", )\n",
    "for category in prediction[0]:\n",
    "    print(f\"{category['label']}: {100.0 * category['score']:.1f}%\")\n"
   ]
  },
  {
   "cell_type": "code",
   "execution_count": 3,
   "id": "4bf135b6-9658-4383-9051-495b492be573",
   "metadata": {
    "tags": []
   },
   "outputs": [
    {
     "name": "stderr",
     "output_type": "stream",
     "text": [
      "huggingface/tokenizers: The current process just got forked, after parallelism has already been used. Disabling parallelism to avoid deadlocks...\n",
      "To disable this warning, you can either:\n",
      "\t- Avoid using `tokenizers` before the fork if possible\n",
      "\t- Explicitly set the environment variable TOKENIZERS_PARALLELISM=(true | false)\n"
     ]
    },
    {
     "name": "stdout",
     "output_type": "stream",
     "text": [
      "Requirement already satisfied: nltk in /opt/conda/lib/python3.11/site-packages (3.9.1)\n",
      "Requirement already satisfied: click in /opt/conda/lib/python3.11/site-packages (from nltk) (8.1.7)\n",
      "Requirement already satisfied: joblib in /opt/conda/lib/python3.11/site-packages (from nltk) (1.3.2)\n",
      "Requirement already satisfied: regex>=2021.8.3 in /opt/conda/lib/python3.11/site-packages (from nltk) (2024.9.11)\n",
      "Requirement already satisfied: tqdm in /opt/conda/lib/python3.11/site-packages (from nltk) (4.66.1)\n",
      "Note: you may need to restart the kernel to use updated packages.\n"
     ]
    }
   ],
   "source": [
    "%pip install -U nltk"
   ]
  },
  {
   "cell_type": "code",
   "execution_count": 28,
   "id": "f7e0ad2e-9eeb-446a-951e-cc9b2769f129",
   "metadata": {
    "tags": []
   },
   "outputs": [
    {
     "name": "stderr",
     "output_type": "stream",
     "text": [
      "[nltk_data] Downloading package pros_cons to\n",
      "[nltk_data]     /home/kubeflow/nltk_data...\n",
      "[nltk_data]   Unzipping corpora/pros_cons.zip.\n",
      "[nltk_data] Downloading package punkt_tab to\n",
      "[nltk_data]     /home/kubeflow/nltk_data...\n",
      "[nltk_data]   Package punkt_tab is already up-to-date!\n"
     ]
    },
    {
     "data": {
      "text/plain": [
       "True"
      ]
     },
     "execution_count": 28,
     "metadata": {},
     "output_type": "execute_result"
    }
   ],
   "source": [
    "import nltk\n",
    "\n",
    "nltk.download('pros_cons')\n",
    "nltk.download('punkt_tab')"
   ]
  },
  {
   "cell_type": "code",
   "execution_count": 31,
   "id": "c50d85e4-f62d-4f03-a0a1-e96ec9b2a09c",
   "metadata": {
    "tags": []
   },
   "outputs": [
    {
     "name": "stdout",
     "output_type": "stream",
     "text": [
      "poor battery life , no download ringtones , games , flimsy flip part\n",
      "    sadness: 91.9%\n",
      "    anger: 4.9%\n",
      "    joy: 1.8%\n",
      "    fear: 0.8%\n",
      "    surprise: 0.3%\n",
      "    love: 0.2%\n",
      "\n",
      "Fantastic Output\n",
      "    joy: 99.6%\n",
      "    surprise: 0.2%\n",
      "    sadness: 0.1%\n",
      "    anger: 0.1%\n",
      "    love: 0.1%\n",
      "    fear: 0.0%\n",
      "\n",
      "125 ' sec flash syncro ., 320 ISO ...\n",
      "    joy: 61.9%\n",
      "    fear: 24.2%\n",
      "    anger: 9.0%\n",
      "    sadness: 3.1%\n",
      "    surprise: 1.3%\n",
      "    love: 0.4%\n",
      "\n",
      "Nikon name , form factor .\n",
      "    joy: 53.4%\n",
      "    fear: 24.3%\n",
      "    anger: 17.5%\n",
      "    sadness: 3.0%\n",
      "    surprise: 1.2%\n",
      "    love: 0.7%\n",
      "\n",
      "Same problems as all non - pro digital cameras : shutter lag and startup time\n",
      "    fear: 37.0%\n",
      "    sadness: 23.2%\n",
      "    joy: 22.0%\n",
      "    anger: 16.9%\n",
      "    surprise: 0.6%\n",
      "    love: 0.3%\n",
      "\n",
      "The batteries run away very fast .\n",
      "    fear: 76.8%\n",
      "    anger: 16.7%\n",
      "    joy: 4.7%\n",
      "    sadness: 1.2%\n",
      "    surprise: 0.4%\n",
      "    love: 0.1%\n",
      "\n",
      "Superb Print Quality , does good on CAD work as well\n",
      "    joy: 99.7%\n",
      "    surprise: 0.1%\n",
      "    sadness: 0.1%\n",
      "    love: 0.0%\n",
      "    anger: 0.0%\n",
      "    fear: 0.0%\n",
      "\n",
      "Pricey toy , Not meant for fast repetitive shooting , lighting stinks\n",
      "    anger: 96.6%\n",
      "    joy: 2.0%\n",
      "    sadness: 1.0%\n",
      "    fear: 0.2%\n",
      "    love: 0.2%\n",
      "    surprise: 0.1%\n",
      "\n",
      "The cartridge gets clogged easily and it costs just as much as the printer\n",
      "    sadness: 68.7%\n",
      "    anger: 24.7%\n",
      "    fear: 5.5%\n",
      "    joy: 0.8%\n",
      "    surprise: 0.2%\n",
      "    love: 0.1%\n",
      "\n",
      "Easy navigation , speakerphone , large display , battery life\n",
      "    joy: 98.2%\n",
      "    fear: 0.6%\n",
      "    anger: 0.6%\n",
      "    sadness: 0.3%\n",
      "    surprise: 0.2%\n",
      "    love: 0.1%\n",
      "\n",
      "Eats batteries like an aardvark eats ants\n",
      "    anger: 93.5%\n",
      "    fear: 4.4%\n",
      "    joy: 0.9%\n",
      "    sadness: 0.8%\n",
      "    surprise: 0.2%\n",
      "    love: 0.2%\n",
      "\n",
      "Number of Keys required to press to view address book\n",
      "    fear: 64.1%\n",
      "    anger: 25.4%\n",
      "    sadness: 5.7%\n",
      "    joy: 3.9%\n",
      "    surprise: 0.5%\n",
      "    love: 0.3%\n",
      "\n",
      "Poor manual , Night pictures probably , Only 8 Mb memory card included\n",
      "    sadness: 97.6%\n",
      "    fear: 1.0%\n",
      "    anger: 0.9%\n",
      "    joy: 0.3%\n",
      "    surprise: 0.1%\n",
      "    love: 0.0%\n",
      "\n",
      "Voice dialing , small , liteweight , easy to use , great sound quality !\n",
      "    joy: 99.5%\n",
      "    anger: 0.2%\n",
      "    sadness: 0.1%\n",
      "    fear: 0.1%\n",
      "    surprise: 0.1%\n",
      "    love: 0.0%\n",
      "\n",
      "paper tray\n",
      "    anger: 67.5%\n",
      "    fear: 18.8%\n",
      "    sadness: 6.4%\n",
      "    joy: 6.0%\n",
      "    surprise: 0.8%\n",
      "    love: 0.5%\n",
      "\n",
      "Weight , Volume , Bluetooth , Sync with Outlook , External Antenna Port\n",
      "    joy: 74.2%\n",
      "    fear: 16.4%\n",
      "    anger: 5.9%\n",
      "    sadness: 2.4%\n",
      "    love: 0.6%\n",
      "    surprise: 0.5%\n",
      "\n",
      "low battery warning sucks , 2 memory chips , some features difficult to access , zoom is temperamental\n",
      "    anger: 97.3%\n",
      "    sadness: 1.1%\n",
      "    fear: 0.8%\n",
      "    joy: 0.6%\n",
      "    love: 0.2%\n",
      "    surprise: 0.1%\n",
      "\n",
      "user friendly\n",
      "    joy: 99.7%\n",
      "    sadness: 0.1%\n",
      "    anger: 0.1%\n",
      "    love: 0.1%\n",
      "    fear: 0.0%\n",
      "    surprise: 0.0%\n",
      "\n",
      "Design a little chunky , even though it isnt wide , its pretty thick .\n",
      "    joy: 67.8%\n",
      "    anger: 26.9%\n",
      "    fear: 2.6%\n",
      "    sadness: 1.8%\n",
      "    surprise: 0.6%\n",
      "    love: 0.4%\n",
      "\n",
      "Macro mode is rather unimpressive .\n",
      "    sadness: 99.8%\n",
      "    fear: 0.1%\n",
      "    anger: 0.0%\n",
      "    joy: 0.0%\n",
      "    love: 0.0%\n",
      "    surprise: 0.0%\n",
      "\n"
     ]
    }
   ],
   "source": [
    "import random\n",
    "comment_list = nltk.corpus.pros_cons.sents()\n",
    "num_comments = len(comment_list)\n",
    "\n",
    "for count in range(20):\n",
    "    idx = random.randrange(num_comments)\n",
    "    comment = ' '.join(comment_list[idx])\n",
    "    print(comment)\n",
    "    prediction = classifier(comment, )\n",
    "    for category in prediction[0]:\n",
    "        print(f\"    {category['label']}: {100.0 * category['score']:.1f}%\")\n",
    "    print()"
   ]
  },
  {
   "cell_type": "code",
   "execution_count": null,
   "id": "c947009c-4bcb-4908-ab43-0bf900115f1f",
   "metadata": {},
   "outputs": [],
   "source": []
  }
 ],
 "metadata": {
  "kernelspec": {
   "display_name": "Python 3 (ipykernel)",
   "language": "python",
   "name": "python3"
  },
  "language_info": {
   "codemirror_mode": {
    "name": "ipython",
    "version": 3
   },
   "file_extension": ".py",
   "mimetype": "text/x-python",
   "name": "python",
   "nbconvert_exporter": "python",
   "pygments_lexer": "ipython3",
   "version": "3.11.6"
  }
 },
 "nbformat": 4,
 "nbformat_minor": 5
}
