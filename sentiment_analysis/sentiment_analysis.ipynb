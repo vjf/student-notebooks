{
 "cells": [
  {
   "cell_type": "code",
   "execution_count": 1,
   "id": "80ee4e69-8975-4f11-93f9-cce781fed07b",
   "metadata": {
    "tags": []
   },
   "outputs": [
    {
     "name": "stdout",
     "output_type": "stream",
     "text": [
      "Requirement already satisfied: transformers in /opt/conda/lib/python3.11/site-packages (4.44.2)\n",
      "Requirement already satisfied: filelock in /opt/conda/lib/python3.11/site-packages (from transformers) (3.15.4)\n",
      "Requirement already satisfied: huggingface-hub<1.0,>=0.23.2 in /opt/conda/lib/python3.11/site-packages (from transformers) (0.25.0)\n",
      "Requirement already satisfied: numpy>=1.17 in /opt/conda/lib/python3.11/site-packages (from transformers) (1.24.3)\n",
      "Requirement already satisfied: packaging>=20.0 in /opt/conda/lib/python3.11/site-packages (from transformers) (23.2)\n",
      "Requirement already satisfied: pyyaml>=5.1 in /opt/conda/lib/python3.11/site-packages (from transformers) (6.0.1)\n",
      "Requirement already satisfied: regex!=2019.12.17 in /opt/conda/lib/python3.11/site-packages (from transformers) (2024.9.11)\n",
      "Requirement already satisfied: requests in /opt/conda/lib/python3.11/site-packages (from transformers) (2.31.0)\n",
      "Requirement already satisfied: safetensors>=0.4.1 in /opt/conda/lib/python3.11/site-packages (from transformers) (0.4.5)\n",
      "Requirement already satisfied: tokenizers<0.20,>=0.19 in /opt/conda/lib/python3.11/site-packages (from transformers) (0.19.1)\n",
      "Requirement already satisfied: tqdm>=4.27 in /opt/conda/lib/python3.11/site-packages (from transformers) (4.66.1)\n",
      "Requirement already satisfied: fsspec>=2023.5.0 in /opt/conda/lib/python3.11/site-packages (from huggingface-hub<1.0,>=0.23.2->transformers) (2024.9.0)\n",
      "Requirement already satisfied: typing-extensions>=3.7.4.3 in /opt/conda/lib/python3.11/site-packages (from huggingface-hub<1.0,>=0.23.2->transformers) (4.12.2)\n",
      "Requirement already satisfied: charset-normalizer<4,>=2 in /opt/conda/lib/python3.11/site-packages (from requests->transformers) (3.3.2)\n",
      "Requirement already satisfied: idna<4,>=2.5 in /opt/conda/lib/python3.11/site-packages (from requests->transformers) (3.6)\n",
      "Requirement already satisfied: urllib3<3,>=1.21.1 in /opt/conda/lib/python3.11/site-packages (from requests->transformers) (1.26.18)\n",
      "Requirement already satisfied: certifi>=2017.4.17 in /opt/conda/lib/python3.11/site-packages (from requests->transformers) (2023.11.17)\n",
      "Note: you may need to restart the kernel to use updated packages.\n"
     ]
    }
   ],
   "source": [
    "%pip install -U transformers"
   ]
  },
  {
   "cell_type": "markdown",
   "id": "cbb764f9-c7c3-42ad-95ee-9d9cee2adcb5",
   "metadata": {},
   "source": [
    "### Source: https://huggingface.co/bhadresh-savani/distilbert-base-uncased-emotion?text=I+feel+a+bit+let+down"
   ]
  },
  {
   "cell_type": "code",
   "execution_count": 2,
   "id": "eb3f7ff7-08d3-42d0-a2db-7d08311fea10",
   "metadata": {
    "tags": []
   },
   "outputs": [
    {
     "name": "stderr",
     "output_type": "stream",
     "text": [
      "2024-09-20 06:04:29.894277: I tensorflow/core/util/port.cc:110] oneDNN custom operations are on. You may see slightly different numerical results due to floating-point round-off errors from different computation orders. To turn them off, set the environment variable `TF_ENABLE_ONEDNN_OPTS=0`.\n",
      "2024-09-20 06:04:29.943181: I tensorflow/core/platform/cpu_feature_guard.cc:182] This TensorFlow binary is optimized to use available CPU instructions in performance-critical operations.\n",
      "To enable the following instructions: AVX2 AVX512F AVX512_VNNI FMA, in other operations, rebuild TensorFlow with the appropriate compiler flags.\n",
      "2024-09-20 06:04:42.745095: I tensorflow/core/common_runtime/gpu/gpu_device.cc:1639] Created device /job:localhost/replica:0/task:0/device:GPU:0 with 31141 MB memory:  -> device: 0, name: Tesla V100-PCIE-32GB, pci bus id: 0000:3b:00.0, compute capability: 7.0\n",
      "All PyTorch model weights were used when initializing TFDistilBertForSequenceClassification.\n",
      "\n",
      "All the weights of TFDistilBertForSequenceClassification were initialized from the PyTorch model.\n",
      "If your task is similar to the task the model of the checkpoint was trained on, you can already use TFDistilBertForSequenceClassification for predictions without further training.\n",
      "/opt/conda/lib/python3.11/site-packages/transformers/tokenization_utils_base.py:1601: FutureWarning: `clean_up_tokenization_spaces` was not set. It will be set to `True` by default. This behavior will be depracted in transformers v4.45, and will be then set to `False` by default. For more details check this issue: https://github.com/huggingface/transformers/issues/31884\n",
      "  warnings.warn(\n"
     ]
    },
    {
     "name": "stdout",
     "output_type": "stream",
     "text": [
      "joy: 99.6%\n",
      "anger: 0.2%\n",
      "love: 0.1%\n",
      "sadness: 0.1%\n",
      "fear: 0.0%\n",
      "surprise: 0.0%\n"
     ]
    }
   ],
   "source": [
    "from transformers import pipeline\n",
    "classifier = pipeline(\"text-classification\",model='bhadresh-savani/distilbert-base-uncased-emotion', top_k=None)\n",
    "prediction = classifier(\"I love using transformers. The best part is wide range of support and its easy to use\", )\n",
    "for category in prediction[0]:\n",
    "    print(f\"{category['label']}: {100.0 * category['score']:.1f}%\")\n"
   ]
  },
  {
   "cell_type": "markdown",
   "id": "7231d0d9-1565-4e6b-a08a-66fc2e0f8284",
   "metadata": {},
   "source": [
    "### Using Natural Language Toolkit: https://www.nltk.org/"
   ]
  },
  {
   "cell_type": "code",
   "execution_count": 3,
   "id": "4bf135b6-9658-4383-9051-495b492be573",
   "metadata": {
    "tags": []
   },
   "outputs": [
    {
     "name": "stderr",
     "output_type": "stream",
     "text": [
      "huggingface/tokenizers: The current process just got forked, after parallelism has already been used. Disabling parallelism to avoid deadlocks...\n",
      "To disable this warning, you can either:\n",
      "\t- Avoid using `tokenizers` before the fork if possible\n",
      "\t- Explicitly set the environment variable TOKENIZERS_PARALLELISM=(true | false)\n"
     ]
    },
    {
     "name": "stdout",
     "output_type": "stream",
     "text": [
      "Requirement already satisfied: nltk in /opt/conda/lib/python3.11/site-packages (3.9.1)\n",
      "Requirement already satisfied: click in /opt/conda/lib/python3.11/site-packages (from nltk) (8.1.7)\n",
      "Requirement already satisfied: joblib in /opt/conda/lib/python3.11/site-packages (from nltk) (1.3.2)\n",
      "Requirement already satisfied: regex>=2021.8.3 in /opt/conda/lib/python3.11/site-packages (from nltk) (2024.9.11)\n",
      "Requirement already satisfied: tqdm in /opt/conda/lib/python3.11/site-packages (from nltk) (4.66.1)\n",
      "Note: you may need to restart the kernel to use updated packages.\n"
     ]
    }
   ],
   "source": [
    "%pip install -U nltk"
   ]
  },
  {
   "cell_type": "code",
   "execution_count": 28,
   "id": "f7e0ad2e-9eeb-446a-951e-cc9b2769f129",
   "metadata": {
    "tags": []
   },
   "outputs": [
    {
     "name": "stderr",
     "output_type": "stream",
     "text": [
      "[nltk_data] Downloading package pros_cons to\n",
      "[nltk_data]     /home/kubeflow/nltk_data...\n",
      "[nltk_data]   Unzipping corpora/pros_cons.zip.\n",
      "[nltk_data] Downloading package punkt_tab to\n",
      "[nltk_data]     /home/kubeflow/nltk_data...\n",
      "[nltk_data]   Package punkt_tab is already up-to-date!\n"
     ]
    },
    {
     "data": {
      "text/plain": [
       "True"
      ]
     },
     "execution_count": 28,
     "metadata": {},
     "output_type": "execute_result"
    }
   ],
   "source": [
    "import nltk\n",
    "\n",
    "nltk.download('pros_cons')\n",
    "nltk.download('punkt_tab')"
   ]
  },
  {
   "cell_type": "markdown",
   "id": "6efd8143-9287-446b-827a-cf9aa4ed20b8",
   "metadata": {},
   "source": [
    "### Analyse a random selection of comments on consumer goods"
   ]
  },
  {
   "cell_type": "code",
   "execution_count": 32,
   "id": "c50d85e4-f62d-4f03-a0a1-e96ec9b2a09c",
   "metadata": {
    "tags": []
   },
   "outputs": [
    {
     "name": "stdout",
     "output_type": "stream",
     "text": [
      "bad View finder , limited zoom , slow auto focus\n",
      "    fear: 36.3%\n",
      "    sadness: 29.7%\n",
      "    anger: 28.4%\n",
      "    joy: 4.9%\n",
      "    surprise: 0.4%\n",
      "    love: 0.3%\n",
      "\n",
      "Great sound quality , long battery life , inexpensive .\n",
      "    joy: 99.4%\n",
      "    anger: 0.2%\n",
      "    sadness: 0.1%\n",
      "    fear: 0.1%\n",
      "    surprise: 0.1%\n",
      "    love: 0.1%\n",
      "\n",
      "Costly ink , but whose isn ' t ?\n",
      "    anger: 84.9%\n",
      "    joy: 9.3%\n",
      "    sadness: 4.3%\n",
      "    fear: 0.8%\n",
      "    love: 0.4%\n",
      "    surprise: 0.3%\n",
      "\n",
      "vague battery indicator , camera has no flash\n",
      "    anger: 56.1%\n",
      "    fear: 43.1%\n",
      "    joy: 0.4%\n",
      "    sadness: 0.2%\n",
      "    surprise: 0.2%\n",
      "    love: 0.1%\n",
      "\n",
      "vibration is not strong at all\n",
      "    joy: 96.0%\n",
      "    fear: 1.9%\n",
      "    anger: 1.3%\n",
      "    sadness: 0.6%\n",
      "    surprise: 0.1%\n",
      "    love: 0.1%\n",
      "\n",
      "Bigger than the StarTac Digital\n",
      "    joy: 52.7%\n",
      "    anger: 27.3%\n",
      "    fear: 13.6%\n",
      "    sadness: 4.6%\n",
      "    surprise: 1.1%\n",
      "    love: 0.6%\n",
      "\n",
      "ink usage , epson customer service , loud\n",
      "    anger: 70.1%\n",
      "    joy: 19.3%\n",
      "    fear: 7.3%\n",
      "    sadness: 2.7%\n",
      "    love: 0.3%\n",
      "    surprise: 0.3%\n",
      "\n",
      "Eats batteries , but one can easily determine ways to save on energy drain .\n",
      "    joy: 38.2%\n",
      "    fear: 36.3%\n",
      "    anger: 17.4%\n",
      "    sadness: 7.2%\n",
      "    surprise: 0.6%\n",
      "    love: 0.3%\n",
      "\n",
      "Ultra lightweight and compact , easy to use and awesome clarity .\n",
      "    joy: 99.7%\n",
      "    anger: 0.1%\n",
      "    surprise: 0.1%\n",
      "    love: 0.1%\n",
      "    fear: 0.1%\n",
      "    sadness: 0.0%\n",
      "\n",
      "voice quality , can use it on my vacations oversea ' s , great design and look , very light .\n",
      "    joy: 99.9%\n",
      "    love: 0.0%\n",
      "    surprise: 0.0%\n",
      "    sadness: 0.0%\n",
      "    anger: 0.0%\n",
      "    fear: 0.0%\n",
      "\n",
      "No rechargeable battery , small LCD\n",
      "    joy: 54.5%\n",
      "    anger: 19.8%\n",
      "    fear: 12.6%\n",
      "    sadness: 12.0%\n",
      "    love: 0.6%\n",
      "    surprise: 0.5%\n",
      "\n",
      "whisper mode feature , caller id in flip with customizable colors\n",
      "    joy: 93.3%\n",
      "    fear: 4.1%\n",
      "    anger: 1.6%\n",
      "    sadness: 0.7%\n",
      "    surprise: 0.2%\n",
      "    love: 0.2%\n",
      "\n",
      "musical rings not loud enough\n",
      "    joy: 95.1%\n",
      "    anger: 3.6%\n",
      "    fear: 0.5%\n",
      "    sadness: 0.4%\n",
      "    surprise: 0.2%\n",
      "    love: 0.2%\n",
      "\n",
      "So So Battery Life , Where ' s the Rechargeable Battery ?\n",
      "    joy: 69.9%\n",
      "    anger: 15.5%\n",
      "    fear: 7.3%\n",
      "    sadness: 6.5%\n",
      "    surprise: 0.4%\n",
      "    love: 0.3%\n",
      "\n",
      "ease of use\n",
      "    joy: 86.4%\n",
      "    anger: 6.1%\n",
      "    fear: 4.4%\n",
      "    sadness: 1.8%\n",
      "    surprise: 0.6%\n",
      "    love: 0.5%\n",
      "\n",
      "Menu interface could be easier to use\n",
      "    joy: 95.7%\n",
      "    anger: 1.7%\n",
      "    fear: 1.2%\n",
      "    sadness: 0.9%\n",
      "    surprise: 0.3%\n",
      "    love: 0.2%\n",
      "\n",
      "Very poor paper load design .\n",
      "    sadness: 94.1%\n",
      "    anger: 4.5%\n",
      "    fear: 0.8%\n",
      "    joy: 0.3%\n",
      "    surprise: 0.1%\n",
      "    love: 0.1%\n",
      "\n",
      "Hard to use with one hand\n",
      "    anger: 93.2%\n",
      "    fear: 2.5%\n",
      "    sadness: 1.9%\n",
      "    joy: 1.9%\n",
      "    love: 0.3%\n",
      "    surprise: 0.2%\n",
      "\n",
      "No USB port , no included Smartcard reader .\n",
      "    fear: 37.5%\n",
      "    joy: 36.2%\n",
      "    anger: 21.0%\n",
      "    sadness: 4.2%\n",
      "    surprise: 0.6%\n",
      "    love: 0.5%\n",
      "\n",
      "The 2200 is in short supply - and 7 inks aren ' t cheap !\n",
      "    joy: 98.1%\n",
      "    anger: 1.1%\n",
      "    sadness: 0.4%\n",
      "    fear: 0.1%\n",
      "    surprise: 0.1%\n",
      "    love: 0.1%\n",
      "\n"
     ]
    }
   ],
   "source": [
    "import random\n",
    "comment_list = nltk.corpus.pros_cons.sents()\n",
    "num_comments = len(comment_list)\n",
    "\n",
    "for count in range(20):\n",
    "    idx = random.randrange(num_comments)\n",
    "    comment = ' '.join(comment_list[idx])\n",
    "    print(comment)\n",
    "    prediction = classifier(comment, )\n",
    "    for category in prediction[0]:\n",
    "        print(f\"    {category['label']}: {100.0 * category['score']:.1f}%\")\n",
    "    print()"
   ]
  },
  {
   "cell_type": "code",
   "execution_count": null,
   "id": "c947009c-4bcb-4908-ab43-0bf900115f1f",
   "metadata": {},
   "outputs": [],
   "source": []
  }
 ],
 "metadata": {
  "kernelspec": {
   "display_name": "Python 3 (ipykernel)",
   "language": "python",
   "name": "python3"
  },
  "language_info": {
   "codemirror_mode": {
    "name": "ipython",
    "version": 3
   },
   "file_extension": ".py",
   "mimetype": "text/x-python",
   "name": "python",
   "nbconvert_exporter": "python",
   "pygments_lexer": "ipython3",
   "version": "3.11.6"
  }
 },
 "nbformat": 4,
 "nbformat_minor": 5
}
