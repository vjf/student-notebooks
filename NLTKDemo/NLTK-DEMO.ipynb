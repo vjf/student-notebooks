{
 "cells": [
  {
   "cell_type": "markdown",
   "id": "0cffea36-3102-4cd4-855f-c9bb09d38fb9",
   "metadata": {},
   "source": [
    "### From: https://realpython.com/python-nltk-sentiment-analysis/"
   ]
  },
  {
   "cell_type": "code",
   "execution_count": 1,
   "id": "75762902-f68d-4090-9e35-4b39663774cf",
   "metadata": {},
   "outputs": [],
   "source": [
    "import nltk"
   ]
  },
  {
   "cell_type": "code",
   "execution_count": 2,
   "id": "7a3b1f42-1cb5-488a-99da-d6f275e007dc",
   "metadata": {},
   "outputs": [
    {
     "name": "stderr",
     "output_type": "stream",
     "text": [
      "[nltk_data] Downloading package shakespeare to\n",
      "[nltk_data]     /home/jovyan/nltk_data...\n",
      "[nltk_data]   Package shakespeare is already up-to-date!\n"
     ]
    },
    {
     "data": {
      "text/plain": [
       "True"
      ]
     },
     "execution_count": 2,
     "metadata": {},
     "output_type": "execute_result"
    }
   ],
   "source": [
    "nltk.download('shakespeare')"
   ]
  },
  {
   "cell_type": "code",
   "execution_count": 3,
   "id": "23cb3970-ba80-4094-a445-54465ee23d2f",
   "metadata": {},
   "outputs": [
    {
     "name": "stderr",
     "output_type": "stream",
     "text": [
      "[nltk_data] Downloading package names to /home/jovyan/nltk_data...\n",
      "[nltk_data]   Package names is already up-to-date!\n",
      "[nltk_data] Downloading package stopwords to /home/jovyan/nltk_data...\n",
      "[nltk_data]   Package stopwords is already up-to-date!\n",
      "[nltk_data] Downloading package state_union to\n",
      "[nltk_data]     /home/jovyan/nltk_data...\n",
      "[nltk_data]   Package state_union is already up-to-date!\n",
      "[nltk_data] Downloading package twitter_samples to\n",
      "[nltk_data]     /home/jovyan/nltk_data...\n",
      "[nltk_data]   Package twitter_samples is already up-to-date!\n",
      "[nltk_data] Downloading package movie_reviews to\n",
      "[nltk_data]     /home/jovyan/nltk_data...\n",
      "[nltk_data]   Package movie_reviews is already up-to-date!\n",
      "[nltk_data] Downloading package averaged_perceptron_tagger to\n",
      "[nltk_data]     /home/jovyan/nltk_data...\n",
      "[nltk_data]   Package averaged_perceptron_tagger is already up-to-\n",
      "[nltk_data]       date!\n",
      "[nltk_data] Downloading package vader_lexicon to\n",
      "[nltk_data]     /home/jovyan/nltk_data...\n",
      "[nltk_data]   Package vader_lexicon is already up-to-date!\n",
      "[nltk_data] Downloading package punkt to /home/jovyan/nltk_data...\n",
      "[nltk_data]   Package punkt is already up-to-date!\n"
     ]
    },
    {
     "data": {
      "text/plain": [
       "True"
      ]
     },
     "execution_count": 3,
     "metadata": {},
     "output_type": "execute_result"
    }
   ],
   "source": [
    "nltk.download([\"names\", \"stopwords\", \"state_union\", \"twitter_samples\", \"movie_reviews\", \"averaged_perceptron_tagger\", \"vader_lexicon\", \"punkt\", ])\n"
   ]
  },
  {
   "cell_type": "code",
   "execution_count": 4,
   "id": "bce4918e-f5bb-4363-833e-90f75d6e93ed",
   "metadata": {},
   "outputs": [],
   "source": [
    "text = nltk.Text(nltk.corpus.state_union.words())"
   ]
  },
  {
   "cell_type": "code",
   "execution_count": 5,
   "id": "f3a27790-2161-481b-8845-401dc7731daf",
   "metadata": {},
   "outputs": [
    {
     "name": "stdout",
     "output_type": "stream",
     "text": [
      "Displaying 5 of 1079 matches:\n",
      " would want us to do . That is what America will do . So much blood has already\n",
      "ay , the entire world is looking to America for enlightened leadership to peace\n",
      "beyond any shadow of a doubt , that America will continue the fight for freedom\n",
      " to make complete victory certain , America will never become a party to any pl\n",
      "nly in law and in justice . Here in America , we have labored long and hard to \n"
     ]
    }
   ],
   "source": [
    "text.concordance(\"america\", lines=5)"
   ]
  },
  {
   "cell_type": "code",
   "execution_count": 6,
   "id": "aa07e8fe-0ee9-4847-9ec3-8e0467d77f0e",
   "metadata": {},
   "outputs": [],
   "source": [
    "from nltk.sentiment import SentimentIntensityAnalyzer"
   ]
  },
  {
   "cell_type": "code",
   "execution_count": 7,
   "id": "d6ab6c8c-fdd9-4087-815d-84bb27508df8",
   "metadata": {},
   "outputs": [],
   "source": [
    "sia = SentimentIntensityAnalyzer()"
   ]
  },
  {
   "cell_type": "code",
   "execution_count": 8,
   "id": "976ab443-7587-4ba9-b2bc-19a11af48051",
   "metadata": {},
   "outputs": [
    {
     "data": {
      "text/plain": [
       "{'neg': 0.0, 'neu': 0.47, 'pos': 0.53, 'compound': 0.5244}"
      ]
     },
     "execution_count": 8,
     "metadata": {},
     "output_type": "execute_result"
    }
   ],
   "source": [
    "sia.polarity_scores(\"NLTK is really powerful!\")"
   ]
  },
  {
   "cell_type": "code",
   "execution_count": 9,
   "id": "e59d1730-0864-49e0-9971-1b74e7a91e76",
   "metadata": {},
   "outputs": [],
   "source": [
    "tweets = [t.replace(\"://\", \"//\") for t in nltk.corpus.twitter_samples.strings()]\n"
   ]
  },
  {
   "cell_type": "code",
   "execution_count": 10,
   "id": "7cbb6f9c-3aa6-4cce-8080-394c731b0dd2",
   "metadata": {},
   "outputs": [],
   "source": [
    "from random import shuffle"
   ]
  },
  {
   "cell_type": "code",
   "execution_count": 11,
   "id": "f448933c-16da-476c-82e0-2c3ab4df5565",
   "metadata": {},
   "outputs": [],
   "source": [
    "def is_positive(tweet: str) -> bool:\n",
    "    \"\"\"True if tweet has positive compound sentiment, False otherwise.\"\"\"\n",
    "    return sia.polarity_scores(tweet)[\"compound\"] > 0"
   ]
  },
  {
   "cell_type": "code",
   "execution_count": 12,
   "id": "e42c29cc-22f4-475f-b7d4-c60da6867cf6",
   "metadata": {},
   "outputs": [],
   "source": [
    "shuffle(tweets)"
   ]
  },
  {
   "cell_type": "code",
   "execution_count": 13,
   "id": "6c68fa46-da4b-4212-8f34-0b8ec9710eb9",
   "metadata": {},
   "outputs": [
    {
     "name": "stdout",
     "output_type": "stream",
     "text": [
      "> False lgscotland: RT NicolaSturgeon: If Miliband is going to let Tories in rather than work with SNP, we will definitely… http//t.co/BoCftvK7cB\n",
      "> True RT @BrianSpanner1: Nicola Sturgeon fulfills her promise to end the need for foodbanks in Scotland, http//t.co/14mUZQSN9t\n",
      "> True Farage is just a better speaker then the rest\n",
      "> False RT @UKIPHavant: @Nigel_Farage speaks #commonsense. This is what sets him and @UKIP apart from the Lib/Lab/Con who have no common sense &amp; on…\n",
      "> False Ive been trying to play the damn beta for like 12 hours now :(\n",
      "> False RT @Ed_Miliband: Working families can't afford five more years of the Tories, but in seven days time people can vote Labour to put working …\n",
      "> True RT @adam_foster35: LIke #NigelFarage or not (and i dont) but at least he gives you a straight answer unlike #milliband #cameron &amp; #clegg #A…\n",
      "> False @aillynnbee @JamesMelville @Ed_Miliband  miliband is not a blairite. that is why he was elected instead of his brother.\n",
      "> True RT @IrvineWelsh: Miliband's confirmation he would rather have Con govt than Lab one with SNP support is continuation of his siding with Con…\n",
      "> False I wanna take adams candy and eat it :(\n",
      "> False RT @HuffPostUKPol: Unimpressed Question Time audience roast Cameron, Miliband and Clegg during live debate http//t.co/cdp11Cz8Xa http//t.…\n",
      "> False RT @HumzaYousaf: That sound you hear is the final nail hammered into New Labour coffin as Ed Miliband says he'd rather let Tories in than w…\n",
      "> False RT @KeepItLFC: NIGEL FARAGE IS IN THE DRUM ? https//t.co/JQ7VYJ38q1\n",
      "> False If you think the SNP are a left-wing force, think again http//t.co/sAPl5Qww0V\n",
      "> True The foam inside some lady's bra can mob a river!!!!:D=D. True or false?\n"
     ]
    }
   ],
   "source": [
    "for tweet in tweets[:15]:\n",
    "    print(\">\", is_positive(tweet), tweet)"
   ]
  },
  {
   "cell_type": "code",
   "execution_count": 14,
   "id": "e1314fd0-91df-4296-91aa-8f7612e0c1b8",
   "metadata": {},
   "outputs": [
    {
     "data": {
      "text/plain": [
       "False"
      ]
     },
     "execution_count": 14,
     "metadata": {},
     "output_type": "execute_result"
    }
   ],
   "source": [
    "is_positive(\"Rodger Federer is the GOAT!\") "
   ]
  },
  {
   "cell_type": "code",
   "execution_count": 15,
   "id": "9e87fa9e-8313-4b3e-a95b-33e4d19a2136",
   "metadata": {},
   "outputs": [
    {
     "data": {
      "text/plain": [
       "True"
      ]
     },
     "execution_count": 15,
     "metadata": {},
     "output_type": "execute_result"
    }
   ],
   "source": [
    "is_positive(\"Donald Trump is the best president ever!\")"
   ]
  },
  {
   "cell_type": "code",
   "execution_count": 16,
   "id": "c45247a7-0534-4407-a620-24492cb9c43a",
   "metadata": {},
   "outputs": [
    {
     "data": {
      "text/plain": [
       "False"
      ]
     },
     "execution_count": 16,
     "metadata": {},
     "output_type": "execute_result"
    }
   ],
   "source": [
    "is_positive(\"Scomo Pog\")"
   ]
  },
  {
   "cell_type": "code",
   "execution_count": 17,
   "id": "4a900189-ed5e-4c16-ae46-35b8bd53370a",
   "metadata": {},
   "outputs": [
    {
     "data": {
      "text/plain": [
       "False"
      ]
     },
     "execution_count": 17,
     "metadata": {},
     "output_type": "execute_result"
    }
   ],
   "source": [
    "is_positive(\"Tennis > Lawn Bowls\")"
   ]
  },
  {
   "cell_type": "code",
   "execution_count": 18,
   "id": "d6a88a2a-64db-4521-8559-a373b0803e8d",
   "metadata": {},
   "outputs": [
    {
     "data": {
      "text/plain": [
       "True"
      ]
     },
     "execution_count": 18,
     "metadata": {},
     "output_type": "execute_result"
    }
   ],
   "source": [
    "is_positive(\"Chocolate icecream is better than strawberry icecream\")"
   ]
  },
  {
   "cell_type": "code",
   "execution_count": 19,
   "id": "50e16088-1b41-4a00-8868-8b6425ba3aca",
   "metadata": {},
   "outputs": [
    {
     "data": {
      "text/plain": [
       "False"
      ]
     },
     "execution_count": 19,
     "metadata": {},
     "output_type": "execute_result"
    }
   ],
   "source": [
    "is_positive(\"It is raining\")"
   ]
  },
  {
   "cell_type": "code",
   "execution_count": 20,
   "id": "90ea0691-2aff-4eef-ba9c-1b286554a955",
   "metadata": {},
   "outputs": [
    {
     "data": {
      "text/plain": [
       "True"
      ]
     },
     "execution_count": 20,
     "metadata": {},
     "output_type": "execute_result"
    }
   ],
   "source": [
    "is_positive(\"It is Sunny!\")"
   ]
  },
  {
   "cell_type": "code",
   "execution_count": 21,
   "id": "dfe89975-103f-4b62-b72a-54bd0b05739b",
   "metadata": {},
   "outputs": [
    {
     "data": {
      "text/plain": [
       "True"
      ]
     },
     "execution_count": 21,
     "metadata": {},
     "output_type": "execute_result"
    }
   ],
   "source": [
    "is_positive(\"It is Sunny\")"
   ]
  },
  {
   "cell_type": "code",
   "execution_count": 22,
   "id": "9bd473d1-f0a5-4959-bc1a-a0686ee58b3d",
   "metadata": {},
   "outputs": [
    {
     "data": {
      "text/plain": [
       "True"
      ]
     },
     "execution_count": 22,
     "metadata": {},
     "output_type": "execute_result"
    }
   ],
   "source": [
    "is_positive(\"Mint Chocolate icecream tastes like colgate toothpaste\")"
   ]
  },
  {
   "cell_type": "code",
   "execution_count": 23,
   "id": "f41a5254-a858-431f-b487-a02efc559de7",
   "metadata": {},
   "outputs": [
    {
     "data": {
      "text/plain": [
       "False"
      ]
     },
     "execution_count": 23,
     "metadata": {},
     "output_type": "execute_result"
    }
   ],
   "source": [
    "is_positive(\"Is psychology a pseudoscience\")"
   ]
  },
  {
   "cell_type": "code",
   "execution_count": null,
   "id": "ef64a7bd-ce45-4af5-9144-a524f1c917e6",
   "metadata": {},
   "outputs": [],
   "source": [
    "is_positive(\"\")"
   ]
  }
 ],
 "metadata": {
  "kernelspec": {
   "display_name": "NLTK",
   "language": "python",
   "name": "myenv4"
  },
  "language_info": {
   "codemirror_mode": {
    "name": "ipython",
    "version": 3
   },
   "file_extension": ".py",
   "mimetype": "text/x-python",
   "name": "python",
   "nbconvert_exporter": "python",
   "pygments_lexer": "ipython3",
   "version": "3.8.10"
  }
 },
 "nbformat": 4,
 "nbformat_minor": 5
}
