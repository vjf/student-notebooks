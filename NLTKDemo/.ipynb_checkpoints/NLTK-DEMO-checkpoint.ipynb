{
 "cells": [
  {
   "cell_type": "code",
   "execution_count": 2,
   "id": "75762902-f68d-4090-9e35-4b39663774cf",
   "metadata": {},
   "outputs": [],
   "source": [
    "import nltk"
   ]
  },
  {
   "cell_type": "code",
   "execution_count": 3,
   "id": "7a3b1f42-1cb5-488a-99da-d6f275e007dc",
   "metadata": {},
   "outputs": [
    {
     "name": "stderr",
     "output_type": "stream",
     "text": [
      "[nltk_data] Downloading package shakespeare to\n",
      "[nltk_data]     /home/jovyan/nltk_data...\n",
      "[nltk_data]   Unzipping corpora/shakespeare.zip.\n"
     ]
    },
    {
     "data": {
      "text/plain": [
       "True"
      ]
     },
     "execution_count": 3,
     "metadata": {},
     "output_type": "execute_result"
    }
   ],
   "source": [
    "nltk.download('shakespeare')"
   ]
  },
  {
   "cell_type": "code",
   "execution_count": 5,
   "id": "23cb3970-ba80-4094-a445-54465ee23d2f",
   "metadata": {},
   "outputs": [
    {
     "name": "stderr",
     "output_type": "stream",
     "text": [
      "[nltk_data] Downloading package names to /home/jovyan/nltk_data...\n",
      "[nltk_data]   Unzipping corpora/names.zip.\n",
      "[nltk_data] Downloading package stopwords to /home/jovyan/nltk_data...\n",
      "[nltk_data]   Unzipping corpora/stopwords.zip.\n",
      "[nltk_data] Downloading package state_union to\n",
      "[nltk_data]     /home/jovyan/nltk_data...\n",
      "[nltk_data]   Unzipping corpora/state_union.zip.\n",
      "[nltk_data] Downloading package twitter_samples to\n",
      "[nltk_data]     /home/jovyan/nltk_data...\n",
      "[nltk_data]   Unzipping corpora/twitter_samples.zip.\n",
      "[nltk_data] Downloading package movie_reviews to\n",
      "[nltk_data]     /home/jovyan/nltk_data...\n",
      "[nltk_data]   Unzipping corpora/movie_reviews.zip.\n",
      "[nltk_data] Downloading package averaged_perceptron_tagger to\n",
      "[nltk_data]     /home/jovyan/nltk_data...\n",
      "[nltk_data]   Unzipping taggers/averaged_perceptron_tagger.zip.\n",
      "[nltk_data] Downloading package vader_lexicon to\n",
      "[nltk_data]     /home/jovyan/nltk_data...\n",
      "[nltk_data] Downloading package punkt to /home/jovyan/nltk_data...\n",
      "[nltk_data]   Unzipping tokenizers/punkt.zip.\n"
     ]
    },
    {
     "data": {
      "text/plain": [
       "True"
      ]
     },
     "execution_count": 5,
     "metadata": {},
     "output_type": "execute_result"
    }
   ],
   "source": [
    "nltk.download([\"names\", \"stopwords\", \"state_union\", \"twitter_samples\", \"movie_reviews\", \"averaged_perceptron_tagger\", \"vader_lexicon\", \"punkt\", ])\n"
   ]
  },
  {
   "cell_type": "code",
   "execution_count": 6,
   "id": "bce4918e-f5bb-4363-833e-90f75d6e93ed",
   "metadata": {},
   "outputs": [],
   "source": [
    "text = nltk.Text(nltk.corpus.state_union.words())"
   ]
  },
  {
   "cell_type": "code",
   "execution_count": 7,
   "id": "f3a27790-2161-481b-8845-401dc7731daf",
   "metadata": {},
   "outputs": [
    {
     "name": "stdout",
     "output_type": "stream",
     "text": [
      "Displaying 5 of 1079 matches:\n",
      " would want us to do . That is what America will do . So much blood has already\n",
      "ay , the entire world is looking to America for enlightened leadership to peace\n",
      "beyond any shadow of a doubt , that America will continue the fight for freedom\n",
      " to make complete victory certain , America will never become a party to any pl\n",
      "nly in law and in justice . Here in America , we have labored long and hard to \n"
     ]
    }
   ],
   "source": [
    "text.concordance(\"america\", lines=5)"
   ]
  },
  {
   "cell_type": "code",
   "execution_count": 8,
   "id": "aa07e8fe-0ee9-4847-9ec3-8e0467d77f0e",
   "metadata": {},
   "outputs": [],
   "source": [
    "from nltk.sentiment import SentimentIntensityAnalyzer"
   ]
  },
  {
   "cell_type": "code",
   "execution_count": 9,
   "id": "d6ab6c8c-fdd9-4087-815d-84bb27508df8",
   "metadata": {},
   "outputs": [],
   "source": [
    "sia = SentimentIntensityAnalyzer()"
   ]
  },
  {
   "cell_type": "code",
   "execution_count": 10,
   "id": "976ab443-7587-4ba9-b2bc-19a11af48051",
   "metadata": {},
   "outputs": [
    {
     "data": {
      "text/plain": [
       "{'neg': 0.0, 'neu': 0.47, 'pos': 0.53, 'compound': 0.5244}"
      ]
     },
     "execution_count": 10,
     "metadata": {},
     "output_type": "execute_result"
    }
   ],
   "source": [
    "sia.polarity_scores(\"NLTK is really powerful!\")"
   ]
  },
  {
   "cell_type": "code",
   "execution_count": 11,
   "id": "e59d1730-0864-49e0-9971-1b74e7a91e76",
   "metadata": {},
   "outputs": [],
   "source": [
    "tweets = [t.replace(\"://\", \"//\") for t in nltk.corpus.twitter_samples.strings()]\n"
   ]
  },
  {
   "cell_type": "code",
   "execution_count": 12,
   "id": "7cbb6f9c-3aa6-4cce-8080-394c731b0dd2",
   "metadata": {},
   "outputs": [],
   "source": [
    "from random import shuffle"
   ]
  },
  {
   "cell_type": "code",
   "execution_count": 13,
   "id": "f448933c-16da-476c-82e0-2c3ab4df5565",
   "metadata": {},
   "outputs": [],
   "source": [
    "def is_positive(tweet: str) -> bool:\n",
    "    \"\"\"True if tweet has positive compound sentiment, False otherwise.\"\"\"\n",
    "    return sia.polarity_scores(tweet)[\"compound\"] > 0"
   ]
  },
  {
   "cell_type": "code",
   "execution_count": 14,
   "id": "e42c29cc-22f4-475f-b7d4-c60da6867cf6",
   "metadata": {},
   "outputs": [],
   "source": [
    "shuffle(tweets)"
   ]
  },
  {
   "cell_type": "code",
   "execution_count": 16,
   "id": "6c68fa46-da4b-4212-8f34-0b8ec9710eb9",
   "metadata": {},
   "outputs": [
    {
     "name": "stdout",
     "output_type": "stream",
     "text": [
      "> False Goodbye stage :( you'll be miss\n",
      "> True RT @sunny_hundal: It's far easier for Labour to work as a minority govt than the Tories. Miliband can call SNP's bluff, while Cameron has n…\n",
      "> True Waiting for the people to call him BIGOT :p  https//t.co/WGvM79ySv1\n",
      "> True @JewelStaite Funny, but yes too soon. It's always going to be too soon. :D\n",
      "> False RT @GrillingKippers: #AskNigelFarage Farage has run out of steam. Has no vision. Mr 10%\n",
      "> False @seunjinbing @NGVMelbourne I can’t, thesis :(\n",
      "> False Clamjamfried: RT NicolaSturgeon: If Miliband is going to let Tories in rather than work with SNP, we will definite… http//t.co/NUdDrDw3Rn\n",
      "> False Why is my mum playing music out loud :(\n",
      "> True @nicoledyosa1  follow @jnlazts &amp; http//t.co/RCvcYYO0Iq follow u back :)\n",
      "> False RT @rosscolquhoun: Watch @ed_miliband indicate he'd rather let in Tories than work with @theSNP. #voteSNP to make Scotland's voice heard ht…\n",
      "> False @TheLastLeg many in the Tory party see the poor as a curse, an enemy, almost like a disease. It's the Tory pathology. You clarified little.\n",
      "> False RT @BarnabyEdwards: I wish an immigrant would come over here and steal Nigel Farage's job. #AskNigelFarage\n",
      "> True RT @DavidLinden: EXCLUSIVE: Scenes from Labour HQ after Miliband said he'd rather Cameron in Gov than work with SNP #GE2015 #VoteSNP http:/…\n",
      "> False SO SAD FOR THE GIRLS OH WHY DIDN'T THEY WIN :((((\n",
      "> False RT @thomasmessenger: For all Tories claiming that Labour overspent and thus caused a global financial crisis, ahem... http//t.co/DkLwCwzhDA\n"
     ]
    }
   ],
   "source": [
    "for tweet in tweets[:15]:\n",
    "    print(\">\", is_positive(tweet), tweet)"
   ]
  },
  {
   "cell_type": "code",
   "execution_count": null,
   "id": "e1314fd0-91df-4296-91aa-8f7612e0c1b8",
   "metadata": {},
   "outputs": [],
   "source": []
  }
 ],
 "metadata": {
  "kernelspec": {
   "display_name": "NLTK",
   "language": "python",
   "name": "myenv4"
  },
  "language_info": {
   "codemirror_mode": {
    "name": "ipython",
    "version": 3
   },
   "file_extension": ".py",
   "mimetype": "text/x-python",
   "name": "python",
   "nbconvert_exporter": "python",
   "pygments_lexer": "ipython3",
   "version": "3.8.10"
  }
 },
 "nbformat": 4,
 "nbformat_minor": 5
}
